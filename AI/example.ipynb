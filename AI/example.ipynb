{
 "cells": [
  {
   "cell_type": "code",
   "execution_count": 9,
   "metadata": {},
   "outputs": [],
   "source": [
    "import numpy as np\n",
    "from tensorflow.keras.datasets import mnist\n",
    "\n",
    "# Load MNIST data\n",
    "(X_train, y_train), (X_test, y_test) = mnist.load_data()\n",
    "\n",
    "# Normalize the data to [0, 1]\n",
    "X_train = X_train.reshape(-1, 28*28) / 255.0\n",
    "X_test = X_test.reshape(-1, 28*28) / 255.0\n",
    "\n",
    "# One-hot encoding for labels\n",
    "y_train_one_hot = np.eye(10)[y_train]\n",
    "y_test_one_hot = np.eye(10)[y_test]"
   ]
  },
  {
   "cell_type": "code",
   "execution_count": 6,
   "metadata": {},
   "outputs": [],
   "source": [
    "def initialize_parameters(input_size, hidden1_size, hidden2_size, output_size):\n",
    "    np.random.seed(0)\n",
    "    W1 = np.random.randn(input_size, hidden1_size) * 0.01\n",
    "    b1 = np.zeros((1, hidden1_size))\n",
    "    W2 = np.random.randn(hidden1_size, hidden2_size) * 0.01\n",
    "    b2 = np.zeros((1, hidden2_size))\n",
    "    W3 = np.random.randn(hidden2_size, output_size) * 0.01\n",
    "    b3 = np.zeros((1, output_size))\n",
    "    return W1, b1, W2, b2, W3, b3"
   ]
  },
  {
   "cell_type": "code",
   "execution_count": 3,
   "metadata": {},
   "outputs": [],
   "source": [
    "def relu(Z):\n",
    "    return np.maximum(0, Z)\n",
    "\n",
    "def softmax(Z):\n",
    "    exp_Z = np.exp(Z - np.max(Z, axis=1, keepdims=True))\n",
    "    return exp_Z / exp_Z.sum(axis=1, keepdims=True)\n",
    "\n",
    "def forward_propagation(X, W1, b1, W2, b2, W3, b3):\n",
    "    Z1 = np.dot(X, W1) + b1\n",
    "    A1 = relu(Z1)\n",
    "    Z2 = np.dot(A1, W2) + b2\n",
    "    A2 = relu(Z2)\n",
    "    Z3 = np.dot(A2, W3) + b3\n",
    "    A3 = softmax(Z3)\n",
    "    return Z1, A1, Z2, A2, Z3, A3"
   ]
  },
  {
   "cell_type": "code",
   "execution_count": 5,
   "metadata": {},
   "outputs": [],
   "source": [
    "def compute_loss(Y, A3):\n",
    "    m = Y.shape[0]\n",
    "    log_likelihood = -np.log(A3[range(m), Y.argmax(axis=1)])\n",
    "    loss = np.sum(log_likelihood) / m\n",
    "    return loss"
   ]
  },
  {
   "cell_type": "code",
   "execution_count": 6,
   "metadata": {},
   "outputs": [],
   "source": [
    "def relu_derivative(Z):\n",
    "    return Z > 0\n",
    "\n",
    "def backpropagation(X, Y, Z1, A1, Z2, A2, Z3, A3, W1, W2, W3):\n",
    "    m = Y.shape[0]\n",
    "    \n",
    "    dZ3 = A3 - Y\n",
    "    dW3 = np.dot(A2.T, dZ3) / m\n",
    "    db3 = np.sum(dZ3, axis=0, keepdims=True) / m\n",
    "\n",
    "    dA2 = np.dot(dZ3, W3.T)\n",
    "    dZ2 = dA2 * relu_derivative(Z2)\n",
    "    dW2 = np.dot(A1.T, dZ2) / m\n",
    "    db2 = np.sum(dZ2, axis=0, keepdims=True) / m\n",
    "\n",
    "    dA1 = np.dot(dZ2, W2.T)\n",
    "    dZ1 = dA1 * relu_derivative(Z1)\n",
    "    dW1 = np.dot(X.T, dZ1) / m\n",
    "    db1 = np.sum(dZ1, axis=0, keepdims=True) / m\n",
    "\n",
    "    return dW1, db1, dW2, db2, dW3, db3\n",
    "\n",
    "def update_parameters(W1, b1, W2, b2, W3, b3, dW1, db1, dW2, db2, dW3, db3, learning_rate):\n",
    "    W1 -= learning_rate * dW1\n",
    "    b1 -= learning_rate * db1\n",
    "    W2 -= learning_rate * dW2\n",
    "    b2 -= learning_rate * db2\n",
    "    W3 -= learning_rate * dW3\n",
    "    b3 -= learning_rate * db3\n",
    "    return W1, b1, W2, b2, W3, b3"
   ]
  },
  {
   "cell_type": "code",
   "execution_count": 13,
   "metadata": {},
   "outputs": [],
   "source": [
    "def train(X_train, y_train, X_test, y_test, hidden1_size=60, hidden2_size=30, epochs=100, learning_rate=0.01):\n",
    "    input_size = X_train.shape[1]\n",
    "    output_size = 10  # 10 classes for MNIST\n",
    "\n",
    "    # Initialize parameters\n",
    "    W1, b1, W2, b2, W3, b3 = initialize_parameters(input_size, hidden1_size, hidden2_size, output_size)\n",
    "\n",
    "    for epoch in range(epochs):\n",
    "        # Forward propagation\n",
    "        Z1, A1, Z2, A2, Z3, A3 = forward_propagation(X_train, W1, b1, W2, b2, W3, b3)\n",
    "\n",
    "        # Compute loss\n",
    "        loss = compute_loss(y_train, A3)\n",
    "        \n",
    "        # Backpropagation\n",
    "        dW1, db1, dW2, db2, dW3, db3 = backpropagation(X_train, y_train, Z1, A1, Z2, A2, Z3, A3, W1, W2, W3)\n",
    "\n",
    "        # Update parameters\n",
    "        W1, b1, W2, b2, W3, b3 = update_parameters(W1, b1, W2, b2, W3, b3, dW1, db1, dW2, db2, dW3, db3, learning_rate)\n",
    "\n",
    "        if epoch % 10 == 0:\n",
    "            # Print the loss every 10 epochs\n",
    "            print(f\"Epoch {epoch}, Loss: {loss:.4f}\")\n",
    "\n",
    "    # Test the accuracy\n",
    "    _, _, _, _, _, A3_test = forward_propagation(X_test, W1, b1, W2, b2, W3, b3)\n",
    "    predictions = np.argmax(A3_test, axis=1)\n",
    "    accuracy = np.mean(predictions == np.argmax(y_test, axis=1))\n",
    "    print(f\"Test Accuracy: {accuracy:.4f}\")"
   ]
  },
  {
   "cell_type": "code",
   "execution_count": 15,
   "metadata": {},
   "outputs": [
    {
     "name": "stdout",
     "output_type": "stream",
     "text": [
      "Epoch 0, Loss: 2.3026\n",
      "Epoch 10, Loss: 2.3016\n",
      "Epoch 20, Loss: 2.3012\n",
      "Epoch 30, Loss: 2.3010\n",
      "Epoch 40, Loss: 2.3008\n",
      "Epoch 50, Loss: 2.3006\n",
      "Epoch 60, Loss: 2.3001\n",
      "Epoch 70, Loss: 2.2991\n",
      "Epoch 80, Loss: 2.2963\n",
      "Epoch 90, Loss: 2.2834\n",
      "Epoch 100, Loss: 2.1496\n",
      "Epoch 110, Loss: 1.8163\n",
      "Epoch 120, Loss: 2.0517\n",
      "Epoch 130, Loss: 1.7551\n",
      "Epoch 140, Loss: 1.6423\n",
      "Epoch 150, Loss: 1.6740\n",
      "Epoch 160, Loss: 1.2708\n",
      "Epoch 170, Loss: 1.0153\n",
      "Epoch 180, Loss: 1.0895\n",
      "Epoch 190, Loss: 0.7927\n",
      "Test Accuracy: 0.7712\n"
     ]
    }
   ],
   "source": [
    "train(X_train, y_train_one_hot, X_test, y_test_one_hot, epochs=200, learning_rate=0.5)"
   ]
  }
 ],
 "metadata": {
  "kernelspec": {
   "display_name": "Python 3",
   "language": "python",
   "name": "python3"
  },
  "language_info": {
   "codemirror_mode": {
    "name": "ipython",
    "version": 3
   },
   "file_extension": ".py",
   "mimetype": "text/x-python",
   "name": "python",
   "nbconvert_exporter": "python",
   "pygments_lexer": "ipython3",
   "version": "3.12.7"
  }
 },
 "nbformat": 4,
 "nbformat_minor": 2
}
