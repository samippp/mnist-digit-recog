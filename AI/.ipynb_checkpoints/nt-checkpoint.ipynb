{
 "cells": [
  {
   "cell_type": "code",
   "execution_count": 1,
   "id": "bf712d6d-c2ee-4807-a690-e21363b3153e",
   "metadata": {},
   "outputs": [],
   "source": [
    "import numpy as np\n",
    "import matplotlib.pyplot as plt\n",
    "from tensorflow.keras.datasets import mnist"
   ]
  },
  {
   "cell_type": "code",
   "execution_count": 2,
   "id": "d44b3b11-e51f-4168-b8f7-097d508f71d6",
   "metadata": {},
   "outputs": [],
   "source": [
    "def relu(Z): #relu func for normalization at the hidden layers\n",
    "    return np.maximum(0, Z)\n",
    "\n",
    "def softmax(Z): #softmax func for normalization at the final step\n",
    "    return np.exp(Z) / np.sum(np.exp(Z))"
   ]
  },
  {
   "cell_type": "code",
   "execution_count": 3,
   "id": "01201907-4ca2-44d0-a943-2cbe1481e78a",
   "metadata": {},
   "outputs": [],
   "source": [
    "def init_params(input_size, hidden_size1, hidden_size2, output_size):\n",
    "    w1 = np.random.randn(input_size, hidden_size1) * 0.01\n",
    "    b1 = np.zeros((1, hidden_size1))\n",
    "    w2 = np.random.randn(hidden_size1,hidden_size2) * 0.01\n",
    "    b2 = np.zeros((1, hidden_size2))\n",
    "    w3 = np.random.randn(hidden_size2, output_size) * 0.01\n",
    "    b3 = np.zeros((1,output_size))\n",
    "    return w1,b1,w2,b2,w3,b3\n"
   ]
  },
  {
   "cell_type": "code",
   "execution_count": 4,
   "id": "cd8f189c-7868-4ece-9ae0-daa139ff72f7",
   "metadata": {},
   "outputs": [],
   "source": [
    "def foward_prop(x,w1, b1, w2, b2, w3, b3):\n",
    "    z1 = np.dot(x, w1) + b1\n",
    "    a1 = relu(z1)\n",
    "    z2 = np.dot(z1, w2) + b2\n",
    "    a2 = relu(z2)\n",
    "    z3 = np.dot(z2, w3) + b3\n",
    "    a3 = softmax(z3)\n",
    "    return a1,a2,a3,z1,z2,z3"
   ]
  },
  {
   "cell_type": "code",
   "execution_count": 5,
   "id": "d5150235-560d-4fae-9713-3938e8ab447a",
   "metadata": {},
   "outputs": [],
   "source": [
    "def deriv_reLu(y):\n",
    "    return y > 0\n",
    "\n",
    "def back_prop(x,y,a1,a2,a3,w2,w3,z1,z2):\n",
    "    m = y.shape[0]\n",
    "    dC3 = a3 - y\n",
    "    dW3 = a2.T.dot(dC3) / m\n",
    "    dB3 = 1 / m * np.sum(dC3, axis=0, keepdims=True)\n",
    "    \n",
    "    dC2 = dC3.dot(w3.T) * deriv_reLu(z2)\n",
    "    dW2 = 1 / m * a1.T.dot(dC2)\n",
    "    dB2 = 1 / m * np.sum(dC2, axis=0, keepdims=True)\n",
    "\n",
    "    dC1 = dC2.dot(w2.T) * deriv_reLu(z1)\n",
    "    dW1 = 1 / m * x.T.dot(dC1)\n",
    "    dB1 = 1 / m * np.sum(dC1, axis=0, keepdims=True)\n",
    "    return dW3, dB3, dW2, dB2, dW1, dB1"
   ]
  },
  {
   "cell_type": "code",
   "execution_count": 6,
   "id": "f9fe2541-5bbb-4510-ad99-d1a2910c44f7",
   "metadata": {},
   "outputs": [],
   "source": [
    "def update_params(w1,b1,w2,b2,w3,b3,dW3, dB3, dW2, dB2, dW1, dB1, learning_rate):\n",
    "    w1 -= learning_rate * dW1\n",
    "    b1 -= learning_rate * dB1\n",
    "    w2 -= learning_rate * dW2\n",
    "    b2 -= learning_rate * dB2\n",
    "    w3 -= learning_rate * dW3\n",
    "    b3 -= learning_rate * dB3\n",
    "    return (w1,b2,w2,b2,w3,b3)\n",
    "\n",
    "def predict(predictions):\n",
    "    return np.argmax(predictions)"
   ]
  },
  {
   "cell_type": "code",
   "execution_count": 7,
   "id": "c899b5c7-9712-41e7-9b86-cd7781d12c27",
   "metadata": {},
   "outputs": [],
   "source": [
    "def batch_gradient_descent(x, y, iterations, learning_rate):\n",
    "    w1,b1,w2,b2,w3,b3 = init_params(784, 10, 10, 10)\n",
    "    for i in range(iterations):\n",
    "        a1,a2,a3,z1,z2,z3 = foward_prop(x,w1, b1, w2, b2, w3, b3)\n",
    "        \n",
    "        dW3, dB3, dW2, dB2, dW1, dB1 = back_prop(x,y,a1,a2,a3,w2,w3,z1,z2)\n",
    "        w1,b2,w2,b2,w3,b3 = update_params(w1,b1,w2,b2,w3,b3,dW3,dB3,dW2,dB2,dW1,dB1, learning_rate)\n",
    "        if( i % 10 == 0):\n",
    "            print(\"Iteration\", i)\n",
    "            print(\"Accuracy: \", np.sum(predict(a3) == y ) / y.size )\n",
    "\n",
    "    return w1,b1,w2,b2,w3,b3"
   ]
  },
  {
   "cell_type": "code",
   "execution_count": 8,
   "id": "2f89a984-3ef0-4f7b-bb4b-5c2b8da712ad",
   "metadata": {},
   "outputs": [
    {
     "name": "stdout",
     "output_type": "stream",
     "text": [
      "Iteration 0\n",
      "Accuracy:  0.0\n",
      "Iteration 10\n",
      "Accuracy:  0.0\n",
      "Iteration 20\n",
      "Accuracy:  0.0\n",
      "Iteration 30\n",
      "Accuracy:  0.0\n",
      "Iteration 40\n",
      "Accuracy:  0.0\n",
      "Iteration 50\n",
      "Accuracy:  0.0\n",
      "Iteration 60\n",
      "Accuracy:  0.0\n",
      "Iteration 70\n",
      "Accuracy:  0.0\n",
      "Iteration 80\n",
      "Accuracy:  0.0\n"
     ]
    },
    {
     "ename": "KeyboardInterrupt",
     "evalue": "",
     "output_type": "error",
     "traceback": [
      "\u001b[1;31m---------------------------------------------------------------------------\u001b[0m",
      "\u001b[1;31mKeyboardInterrupt\u001b[0m                         Traceback (most recent call last)",
      "Cell \u001b[1;32mIn[8], line 7\u001b[0m\n\u001b[0;32m      4\u001b[0m y_train \u001b[38;5;241m=\u001b[39m np\u001b[38;5;241m.\u001b[39meye(\u001b[38;5;241m10\u001b[39m)[y_train]  \u001b[38;5;66;03m# One-hot encoding\u001b[39;00m\n\u001b[0;32m      5\u001b[0m y_test \u001b[38;5;241m=\u001b[39m np\u001b[38;5;241m.\u001b[39meye(\u001b[38;5;241m10\u001b[39m)[y_test]\n\u001b[1;32m----> 7\u001b[0m w1,b1,w2,b2,w3,b3 \u001b[38;5;241m=\u001b[39m \u001b[43mbatch_gradient_descent\u001b[49m\u001b[43m(\u001b[49m\u001b[43mx_train\u001b[49m\u001b[43m,\u001b[49m\u001b[43my_train\u001b[49m\u001b[43m,\u001b[49m\u001b[38;5;241;43m500\u001b[39;49m\u001b[43m,\u001b[49m\u001b[38;5;241;43m0.1\u001b[39;49m\u001b[43m)\u001b[49m\n",
      "Cell \u001b[1;32mIn[7], line 6\u001b[0m, in \u001b[0;36mbatch_gradient_descent\u001b[1;34m(x, y, iterations, learning_rate)\u001b[0m\n\u001b[0;32m      3\u001b[0m \u001b[38;5;28;01mfor\u001b[39;00m i \u001b[38;5;129;01min\u001b[39;00m \u001b[38;5;28mrange\u001b[39m(iterations):\n\u001b[0;32m      4\u001b[0m     a1,a2,a3,z1,z2,z3 \u001b[38;5;241m=\u001b[39m foward_prop(x,w1, b1, w2, b2, w3, b3)\n\u001b[1;32m----> 6\u001b[0m     dW3, dB3, dW2, dB2, dW1, dB1 \u001b[38;5;241m=\u001b[39m \u001b[43mback_prop\u001b[49m\u001b[43m(\u001b[49m\u001b[43mx\u001b[49m\u001b[43m,\u001b[49m\u001b[43my\u001b[49m\u001b[43m,\u001b[49m\u001b[43ma1\u001b[49m\u001b[43m,\u001b[49m\u001b[43ma2\u001b[49m\u001b[43m,\u001b[49m\u001b[43ma3\u001b[49m\u001b[43m,\u001b[49m\u001b[43mw2\u001b[49m\u001b[43m,\u001b[49m\u001b[43mw3\u001b[49m\u001b[43m,\u001b[49m\u001b[43mz1\u001b[49m\u001b[43m,\u001b[49m\u001b[43mz2\u001b[49m\u001b[43m)\u001b[49m\n\u001b[0;32m      7\u001b[0m     w1,b2,w2,b2,w3,b3 \u001b[38;5;241m=\u001b[39m update_params(w1,b1,w2,b2,w3,b3,dW3,dB3,dW2,dB2,dW1,dB1, learning_rate)\n\u001b[0;32m      8\u001b[0m     \u001b[38;5;28;01mif\u001b[39;00m( i \u001b[38;5;241m%\u001b[39m \u001b[38;5;241m10\u001b[39m \u001b[38;5;241m==\u001b[39m \u001b[38;5;241m0\u001b[39m):\n",
      "Cell \u001b[1;32mIn[5], line 15\u001b[0m, in \u001b[0;36mback_prop\u001b[1;34m(x, y, a1, a2, a3, w2, w3, z1, z2)\u001b[0m\n\u001b[0;32m     12\u001b[0m dB2 \u001b[38;5;241m=\u001b[39m \u001b[38;5;241m1\u001b[39m \u001b[38;5;241m/\u001b[39m m \u001b[38;5;241m*\u001b[39m np\u001b[38;5;241m.\u001b[39msum(dC2, axis\u001b[38;5;241m=\u001b[39m\u001b[38;5;241m0\u001b[39m, keepdims\u001b[38;5;241m=\u001b[39m\u001b[38;5;28;01mTrue\u001b[39;00m)\n\u001b[0;32m     14\u001b[0m dC1 \u001b[38;5;241m=\u001b[39m dC2\u001b[38;5;241m.\u001b[39mdot(w2\u001b[38;5;241m.\u001b[39mT) \u001b[38;5;241m*\u001b[39m deriv_reLu(z1)\n\u001b[1;32m---> 15\u001b[0m dW1 \u001b[38;5;241m=\u001b[39m \u001b[38;5;241m1\u001b[39m \u001b[38;5;241m/\u001b[39m m \u001b[38;5;241m*\u001b[39m \u001b[43mx\u001b[49m\u001b[38;5;241;43m.\u001b[39;49m\u001b[43mT\u001b[49m\u001b[38;5;241;43m.\u001b[39;49m\u001b[43mdot\u001b[49m\u001b[43m(\u001b[49m\u001b[43mdC1\u001b[49m\u001b[43m)\u001b[49m\n\u001b[0;32m     16\u001b[0m dB1 \u001b[38;5;241m=\u001b[39m \u001b[38;5;241m1\u001b[39m \u001b[38;5;241m/\u001b[39m m \u001b[38;5;241m*\u001b[39m np\u001b[38;5;241m.\u001b[39msum(dC1, axis\u001b[38;5;241m=\u001b[39m\u001b[38;5;241m0\u001b[39m, keepdims\u001b[38;5;241m=\u001b[39m\u001b[38;5;28;01mTrue\u001b[39;00m)\n\u001b[0;32m     17\u001b[0m \u001b[38;5;28;01mreturn\u001b[39;00m dW3, dB3, dW2, dB2, dW1, dB1\n",
      "\u001b[1;31mKeyboardInterrupt\u001b[0m: "
     ]
    }
   ],
   "source": [
    "(x_train, y_train), (x_test, y_test) = mnist.load_data()\n",
    "x_train = x_train.reshape(x_train.shape[0], 784) / 255.0  # Flatten and normalize\n",
    "x_test = x_test.reshape(x_test.shape[0], 784) / 255.0\n",
    "y_train = np.eye(10)[y_train]  # One-hot encoding\n",
    "y_test = np.eye(10)[y_test]\n",
    "\n",
    "w1,b1,w2,b2,w3,b3 = batch_gradient_descent(x_train,y_train,500,0.1)"
   ]
  },
  {
   "cell_type": "code",
   "execution_count": null,
   "id": "37d82b2a-a432-436d-b835-a690f39c855a",
   "metadata": {},
   "outputs": [],
   "source": []
  },
  {
   "cell_type": "code",
   "execution_count": null,
   "id": "37334cb1-e151-4df0-8a23-d9f25055eb08",
   "metadata": {},
   "outputs": [],
   "source": []
  },
  {
   "cell_type": "code",
   "execution_count": null,
   "id": "04de6b88-6c9d-453b-8f69-46e060e5559c",
   "metadata": {},
   "outputs": [],
   "source": []
  }
 ],
 "metadata": {
  "kernelspec": {
   "display_name": "Python 3",
   "language": "python",
   "name": "python3"
  },
  "language_info": {
   "codemirror_mode": {
    "name": "ipython",
    "version": 3
   },
   "file_extension": ".py",
   "mimetype": "text/x-python",
   "name": "python",
   "nbconvert_exporter": "python",
   "pygments_lexer": "ipython3",
   "version": "3.12.7"
  }
 },
 "nbformat": 4,
 "nbformat_minor": 5
}
